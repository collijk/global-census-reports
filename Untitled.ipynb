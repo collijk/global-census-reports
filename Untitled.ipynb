{
 "cells": [
  {
   "cell_type": "code",
   "execution_count": 6,
   "id": "3ef0acae-9624-4713-a4d4-61fd5932a411",
   "metadata": {},
   "outputs": [],
   "source": [
    "import yaml\n",
    "from pathlib import Path\n",
    "import shutil\n",
    "import tqdm"
   ]
  },
  {
   "cell_type": "code",
   "execution_count": 4,
   "id": "a92a61c1-99ca-48c2-9278-5c6bb5abaaf3",
   "metadata": {},
   "outputs": [],
   "source": [
    "in_dir = Path(\"/home/collijk/census_data/geohive/\")\n",
    "out_dir = Path(\"reports\")"
   ]
  },
  {
   "cell_type": "code",
   "execution_count": 10,
   "id": "d2ce0993-c53f-434e-ad7b-ed830e80b759",
   "metadata": {},
   "outputs": [
    {
     "name": "stderr",
     "output_type": "stream",
     "text": [
      "228it [00:05, 40.65it/s]\n"
     ]
    }
   ],
   "source": [
    "for country_in_dir in tqdm.tqdm(in_dir.iterdir()):\n",
    "    country_out_dir = out_dir / country_in_dir.name\n",
    "    country_out_dir.mkdir(exist_ok=True)\n",
    "    for year_in_dir in country_in_dir.iterdir():\n",
    "        year_out_dir = country_out_dir / year_in_dir.name\n",
    "        year_out_dir.mkdir(exist_ok=True)\n",
    "\n",
    "        in_meta_file = year_in_dir / 'metadata.yaml'\n",
    "        with in_meta_file.open() as f:\n",
    "            in_meta = yaml.safe_load(f)\n",
    "\n",
    "        meta = {}\n",
    "        meta['total_population'] = in_meta['sources']['total_population']        \n",
    "        del in_meta['sources']['total_population']\n",
    "        meta['sources'] = [in_meta['sources']]\n",
    "\n",
    "        out_meta_file = year_out_dir / 'metadata.yaml'\n",
    "        if out_meta_file.exists():\n",
    "            with out_meta_file.open() as f:\n",
    "                out_meta = yaml.safe_load(f)\n",
    "            meta['sources'].extend(out_meta['sources'])\n",
    "\n",
    "        with out_meta_file.open('w') as f:\n",
    "            yaml.dump(meta, f)\n",
    "\n",
    "        in_report_file = year_in_dir / 'report.pdf'\n",
    "        out_report_file = year_out_dir / 'geohive_report.pdf'\n",
    "\n",
    "        shutil.copy(in_report_file, out_report_file)\n",
    "\n",
    "            \n",
    "    \n",
    "    "
   ]
  },
  {
   "cell_type": "code",
   "execution_count": 8,
   "id": "88815226-aced-48c4-a353-ceca853ceeda",
   "metadata": {},
   "outputs": [
    {
     "name": "stdout",
     "output_type": "stream",
     "text": [
      "> \u001b[0;32m/tmp/ipykernel_66442/2150224469.py\u001b[0m(12)\u001b[0;36m<module>\u001b[0;34m()\u001b[0m\n",
      "\u001b[0;32m     10 \u001b[0;31m            \u001b[0mmeta\u001b[0m \u001b[0;34m=\u001b[0m \u001b[0myaml\u001b[0m\u001b[0;34m.\u001b[0m\u001b[0msafe_load\u001b[0m\u001b[0;34m(\u001b[0m\u001b[0mf\u001b[0m\u001b[0;34m)\u001b[0m\u001b[0;34m\u001b[0m\u001b[0;34m\u001b[0m\u001b[0m\n",
      "\u001b[0m\u001b[0;32m     11 \u001b[0;31m\u001b[0;34m\u001b[0m\u001b[0m\n",
      "\u001b[0m\u001b[0;32m---> 12 \u001b[0;31m        \u001b[0mmeta\u001b[0m\u001b[0;34m[\u001b[0m\u001b[0;34m'population'\u001b[0m\u001b[0;34m]\u001b[0m \u001b[0;34m=\u001b[0m \u001b[0mmeta\u001b[0m\u001b[0;34m[\u001b[0m\u001b[0;34m'sources'\u001b[0m\u001b[0;34m]\u001b[0m\u001b[0;34m[\u001b[0m\u001b[0;36m0\u001b[0m\u001b[0;34m]\u001b[0m\u001b[0;34m[\u001b[0m\u001b[0;34m'population'\u001b[0m\u001b[0;34m]\u001b[0m\u001b[0;34m\u001b[0m\u001b[0;34m\u001b[0m\u001b[0m\n",
      "\u001b[0m\u001b[0;32m     13 \u001b[0;31m        \u001b[0;32mdel\u001b[0m \u001b[0mmeta\u001b[0m\u001b[0;34m[\u001b[0m\u001b[0;34m'sources'\u001b[0m\u001b[0;34m]\u001b[0m\u001b[0;34m[\u001b[0m\u001b[0;36m0\u001b[0m\u001b[0;34m]\u001b[0m\u001b[0;34m[\u001b[0m\u001b[0;34m'population'\u001b[0m\u001b[0;34m]\u001b[0m\u001b[0;34m\u001b[0m\u001b[0;34m\u001b[0m\u001b[0m\n",
      "\u001b[0m\u001b[0;32m     14 \u001b[0;31m\u001b[0;34m\u001b[0m\u001b[0m\n",
      "\u001b[0m\n"
     ]
    },
    {
     "name": "stdin",
     "output_type": "stream",
     "text": [
      "ipdb>  meta\n"
     ]
    },
    {
     "name": "stdout",
     "output_type": "stream",
     "text": [
      "{'sources': {'date_collected': '2023-08-03', 'report_type': 'existence', 'total_population': 39943528, 'url': 'http://web.archive.org/web/20140806110453/http://www.geohive.com/cntry/italy.aspx'}}\n"
     ]
    },
    {
     "name": "stdin",
     "output_type": "stream",
     "text": [
      "ipdb>  meta['sources']\n"
     ]
    },
    {
     "name": "stdout",
     "output_type": "stream",
     "text": [
      "{'date_collected': '2023-08-03', 'report_type': 'existence', 'total_population': 39943528, 'url': 'http://web.archive.org/web/20140806110453/http://www.geohive.com/cntry/italy.aspx'}\n"
     ]
    },
    {
     "name": "stdin",
     "output_type": "stream",
     "text": [
      "ipdb>  q\n"
     ]
    }
   ],
   "source": [
    "%debug"
   ]
  },
  {
   "cell_type": "code",
   "execution_count": null,
   "id": "9e5c40a3-03d6-4fed-a99e-3324edebfc3d",
   "metadata": {},
   "outputs": [],
   "source": []
  }
 ],
 "metadata": {
  "kernelspec": {
   "display_name": "Python 3 (ipykernel)",
   "language": "python",
   "name": "python3"
  },
  "language_info": {
   "codemirror_mode": {
    "name": "ipython",
    "version": 3
   },
   "file_extension": ".py",
   "mimetype": "text/x-python",
   "name": "python",
   "nbconvert_exporter": "python",
   "pygments_lexer": "ipython3",
   "version": "3.9.16"
  }
 },
 "nbformat": 4,
 "nbformat_minor": 5
}
